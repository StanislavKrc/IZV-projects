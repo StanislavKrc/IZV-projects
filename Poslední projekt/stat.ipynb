{
 "cells": [
  {
   "cell_type": "markdown",
   "metadata": {},
   "source": [
    "# Test hypotézy #\n",
    "Prvně je třeba nahrát potřebné knihovny:"
   ]
  },
  {
   "cell_type": "code",
   "execution_count": 84,
   "metadata": {},
   "outputs": [],
   "source": [
    "import pandas as pd\n",
    "import numpy as np\n",
    "import scipy.stats as stats"
   ]
  },
  {
   "cell_type": "markdown",
   "metadata": {},
   "source": [
    "## Hypotéza 1: ##\n",
    "*\"Na silnicích první třídy se při nehodách umíralo se stejnou pravděpodobností jako na\n",
    "silnicích třetí třídy.\"*\n",
    "\n",
    "K ověření této hypotézy využijeme testu dobré shody χ², mezivýpočty budeme průběžně zobrazovat."
   ]
  },
  {
   "cell_type": "markdown",
   "metadata": {},
   "source": [
    "V prvé řadě uložíme do datového rámce pouze ty nehody, při kterých došlo k úmrtí:"
   ]
  },
  {
   "cell_type": "code",
   "execution_count": 85,
   "metadata": {},
   "outputs": [],
   "source": [
    "df1=pd.read_pickle(\"accidents.pkl.gz\").dropna(subset=\"p13a\")\n",
    "df1=df1[(df1[\"p13a\"]>0)]"
   ]
  },
  {
   "cell_type": "markdown",
   "metadata": {},
   "source": [
    "Z těchto dat je třeba ještě získat počet nehod s úmrtím na silnicích 1. třídy a nehod s umrtím na silnicích 3. třídy."
   ]
  },
  {
   "cell_type": "code",
   "execution_count": 86,
   "metadata": {},
   "outputs": [
    {
     "name": "stdout",
     "output_type": "stream",
     "text": [
      "Celkový počet smrtelných nehod na silnicích:\n",
      "\n",
      "první třídy: 1104\n",
      "\n",
      "druhé třídy: 536\n"
     ]
    }
   ],
   "source": [
    "first_class_accidents=len(df1[df1['p36'] == 1])\n",
    "third_class_accidents=len(df1[df1['p36'] == 3])\n",
    "print(\"Celkový počet smrtelných nehod na silnicích:\")\n",
    "print(\"\\nprvní třídy: \"+str(first_class_accidents))\n",
    "print(\"\\ndruhé třídy: \"+str(third_class_accidents))"
   ]
  },
  {
   "cell_type": "markdown",
   "metadata": {},
   "source": [
    "Nyní stanovíme očekávaný počet nehod, protože se hypotéza hovoří o stejné pravděpodobnosti, tento počet se zjistí z podílu součtu smrtelných nehod na silnicích 1. a 3. třídy:"
   ]
  },
  {
   "cell_type": "code",
   "execution_count": 87,
   "metadata": {},
   "outputs": [
    {
     "name": "stdout",
     "output_type": "stream",
     "text": [
      "očekávaný počet nehod: 820.0\n"
     ]
    }
   ],
   "source": [
    "expected_accidents=(first_class_accidents+third_class_accidents)/2\n",
    "print(\"očekávaný počet nehod: \"+str(expected_accidents))"
   ]
  },
  {
   "cell_type": "markdown",
   "metadata": {},
   "source": [
    "Po zjištění očekávané hodnoty vytvoříme kontigenční tabulku:"
   ]
  },
  {
   "cell_type": "code",
   "execution_count": 88,
   "metadata": {},
   "outputs": [],
   "source": [
    "contingency_table=np.array([\n",
    "    [first_class_accidents,third_class_accidents],\n",
    "    [expected_accidents,expected_accidents]\n",
    "])"
   ]
  },
  {
   "cell_type": "markdown",
   "metadata": {},
   "source": [
    "Nic nám již nebrání v výpočtu statistiky testu dobré shody χ² a jeho p-hodnoty:"
   ]
  },
  {
   "cell_type": "code",
   "execution_count": 89,
   "metadata": {},
   "outputs": [
    {
     "name": "stdout",
     "output_type": "stream",
     "text": [
      "statistika χ² je: 196.7219512195122\n",
      "p-hodnota je:     1.0844372520926372e-44\n"
     ]
    }
   ],
   "source": [
    "chi,p_value=stats.chisquare(f_obs=contingency_table[0], f_exp=contingency_table[1])\n",
    "print(\"statistika χ² je: \"+str(chi))\n",
    "print(\"p-hodnota je:     \"+str(p_value))"
   ]
  },
  {
   "cell_type": "markdown",
   "metadata": {},
   "source": [
    "Nakonec zjistíme pravdivost hypotézy. Pokud je statistika χ² nulová nebo pokud je p-hodnota větší jak 0.05 (pro 95% jistotu), není mezi nehodovostí statisticky významný rozdíl je hypotéza je tedy pravdivá, v pokud je statistika nenulová a p-hodnota je menší než 0.05, hypotéza je nepravdivá. Následující kód rozhodne o pravdivosti hypotézy:"
   ]
  },
  {
   "cell_type": "code",
   "execution_count": 90,
   "metadata": {},
   "outputs": [
    {
     "name": "stdout",
     "output_type": "stream",
     "text": [
      "Mezi nehodami obou tříd silnic je statisticky VÝZNAMNÝ rozdíl,\n",
      "hypotéza je NEPRAVDIVÁ\n"
     ]
    }
   ],
   "source": [
    "if chi == 0:\n",
    "    print(\"Mezi nehodami obou tříd silnic je NULOVÝ rozdíl,\")\n",
    "    print(\"hypotéza je PRAVDIVÁ\")\n",
    "else:\n",
    "    is_hypothesis_correct=p_value>0.05\n",
    "    if(is_hypothesis_correct):\n",
    "        print(\"Mezi nehodami obou tříd silnic je statisticky NEVÝZNAMNÝ rozdí,l\")\n",
    "        print(\"hypotéza je PRAVDIVÁ\")\n",
    "    else:\n",
    "        print(\"Mezi nehodami obou tříd silnic je statisticky VÝZNAMNÝ rozdíl,\")\n",
    "        print(\"hypotéza je NEPRAVDIVÁ\")"
   ]
  },
  {
   "cell_type": "markdown",
   "metadata": {},
   "source": [
    "## Hypotéza 2: ##\n",
    "*\"Při nehodách vozidel značky Škoda je škoda na vozidle nižší než při nehodách vozidel Audi.\"*\n",
    "\n",
    "Pro ověření této hypotézy je třeba určit vhodný statistiký test. Rozdělení škod nemusí být normální, proto použiji Mann-Whitney U test."
   ]
  },
  {
   "cell_type": "markdown",
   "metadata": {},
   "source": [
    "Opět prvně získáme konkrétní data:"
   ]
  },
  {
   "cell_type": "code",
   "execution_count": 91,
   "metadata": {},
   "outputs": [],
   "source": [
    "df2=pd.read_pickle(\"accidents.pkl.gz\").dropna(subset=\"p45a\")\n",
    "df_skoda=df2[df2[\"p45a\"] == 39]\n",
    "df_audi=df2[df2[\"p45a\"] == 2]"
   ]
  },
  {
   "cell_type": "markdown",
   "metadata": {},
   "source": [
    "Nyní získáme u-statistiku a p-hodnotu pro zjištění, zdali je mezi vzorky statisticky významný rozdíl:"
   ]
  },
  {
   "cell_type": "code",
   "execution_count": 92,
   "metadata": {},
   "outputs": [
    {
     "name": "stdout",
     "output_type": "stream",
     "text": [
      "U-statistika: 871624883.5\n",
      "P-hodnota:    4.553996536432389e-220\n"
     ]
    }
   ],
   "source": [
    "u_statistic, p_value = stats.mannwhitneyu(df_skoda[\"p53\"], df_audi[\"p53\"], alternative='two-sided')\n",
    "\n",
    "print(\"U-statistika: \"+str(u_statistic))\n",
    "print(\"P-hodnota:    \"+str(p_value))"
   ]
  },
  {
   "cell_type": "markdown",
   "metadata": {},
   "source": [
    "Ze získaných hodnot rozhodneme, zdali je při nenulové u-hodnotě na základě p-statistiky a jistoty zdali je mezi vzorky statisticky významný rozdíl:"
   ]
  },
  {
   "cell_type": "code",
   "execution_count": 93,
   "metadata": {},
   "outputs": [],
   "source": [
    "is_significant=p_value<0.05"
   ]
  },
  {
   "cell_type": "markdown",
   "metadata": {},
   "source": [
    "Pokud je statisticky rozdíl významný, je třeba rozhodnout která značka měla při nehodách větší škody, například pomocí mediánu, dále rozhodneme o pravdivosti hypotézy."
   ]
  },
  {
   "cell_type": "code",
   "execution_count": 94,
   "metadata": {},
   "outputs": [
    {
     "name": "stdout",
     "output_type": "stream",
     "text": [
      "Rozdíl JE významný\n",
      "Na automobilech AUDI byly způsobeny větší škody\n",
      "Hypotéza je PRAVDIVÁ\n"
     ]
    }
   ],
   "source": [
    "if is_significant:\n",
    "    print(\"Rozdíl JE významný\")\n",
    "    if df_audi[\"p53\"].median()>df_skoda[\"p53\"].median():\n",
    "        print(\"Na automobilech AUDI byly způsobeny větší škody\")\n",
    "        print(\"Hypotéza je PRAVDIVÁ\")\n",
    "    elif df_audi[\"p53\"].median()<df_skoda[\"p53\"].median():\n",
    "        print(\"Na automobilech ŠKODA byly způsobeny větší škody\")\n",
    "        print(\"Hypotéza je NEPRAVDIVÁ\")\n",
    "else:\n",
    "    print(\"Rozdíl NENÍ významný\")\n"
   ]
  }
 ],
 "metadata": {
  "kernelspec": {
   "display_name": "virtual_enviroment",
   "language": "python",
   "name": "python3"
  },
  "language_info": {
   "codemirror_mode": {
    "name": "ipython",
    "version": 3
   },
   "file_extension": ".py",
   "mimetype": "text/x-python",
   "name": "python",
   "nbconvert_exporter": "python",
   "pygments_lexer": "ipython3",
   "version": "3.9.18"
  }
 },
 "nbformat": 4,
 "nbformat_minor": 2
}
